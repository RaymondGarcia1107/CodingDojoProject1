{
  "cells": [
    {
      "cell_type": "markdown",
      "metadata": {
        "id": "view-in-github",
        "colab_type": "text"
      },
      "source": [
        "<a href=\"https://colab.research.google.com/github/RaymondGarcia1107/Sales-Predictions/blob/main/Sales_Predictions.ipynb\" target=\"_parent\"><img src=\"https://colab.research.google.com/assets/colab-badge.svg\" alt=\"Open In Colab\"/></a>"
      ]
    },
    {
      "cell_type": "markdown",
      "metadata": {
        "id": "R4NCHcQ21bPL"
      },
      "source": [
        "# Project 1: Sales Predictions - Part 1\n",
        "Raymond Garcia"
      ]
    },
    {
      "cell_type": "markdown",
      "metadata": {
        "id": "74aqGU57UFOL"
      },
      "source": [
        "## 1- Importing Libraries"
      ]
    },
    {
      "cell_type": "code",
      "execution_count": 1,
      "metadata": {
        "id": "FIGvm_mZ1lvn",
        "colab": {
          "base_uri": "https://localhost:8080/"
        },
        "outputId": "52baaae2-c906-461e-8a6c-3e5156807a7d"
      },
      "outputs": [
        {
          "output_type": "stream",
          "name": "stdout",
          "text": [
            "Drive already mounted at /content/drive; to attempt to forcibly remount, call drive.mount(\"/content/drive\", force_remount=True).\n"
          ]
        }
      ],
      "source": [
        "import pandas as pd\n",
        "import matplotlib.pyplot as plt\n",
        "import seaborn as sns\n",
        "from google.colab import drive\n",
        "drive.mount('/content/drive')"
      ]
    },
    {
      "cell_type": "markdown",
      "metadata": {
        "id": "I2CBbSHf1mE3"
      },
      "source": [
        "## 2- Loading Data"
      ]
    },
    {
      "cell_type": "code",
      "execution_count": 2,
      "metadata": {
        "id": "heUhi5oe1rCg",
        "colab": {
          "base_uri": "https://localhost:8080/",
          "height": 536
        },
        "outputId": "6bac28d8-ea13-4f0c-fe92-3bd930fa2659"
      },
      "outputs": [
        {
          "output_type": "stream",
          "name": "stdout",
          "text": [
            "<class 'pandas.core.frame.DataFrame'>\n",
            "RangeIndex: 8523 entries, 0 to 8522\n",
            "Data columns (total 12 columns):\n",
            " #   Column                     Non-Null Count  Dtype  \n",
            "---  ------                     --------------  -----  \n",
            " 0   Item_Identifier            8523 non-null   object \n",
            " 1   Item_Weight                7060 non-null   float64\n",
            " 2   Item_Fat_Content           8523 non-null   object \n",
            " 3   Item_Visibility            8523 non-null   float64\n",
            " 4   Item_Type                  8523 non-null   object \n",
            " 5   Item_MRP                   8523 non-null   float64\n",
            " 6   Outlet_Identifier          8523 non-null   object \n",
            " 7   Outlet_Establishment_Year  8523 non-null   int64  \n",
            " 8   Outlet_Size                6113 non-null   object \n",
            " 9   Outlet_Location_Type       8523 non-null   object \n",
            " 10  Outlet_Type                8523 non-null   object \n",
            " 11  Item_Outlet_Sales          8523 non-null   float64\n",
            "dtypes: float64(4), int64(1), object(7)\n",
            "memory usage: 799.2+ KB\n"
          ]
        },
        {
          "output_type": "execute_result",
          "data": {
            "text/plain": [
              "  Item_Identifier  Item_Weight Item_Fat_Content  Item_Visibility  \\\n",
              "0           FDA15         9.30          Low Fat         0.016047   \n",
              "1           DRC01         5.92          Regular         0.019278   \n",
              "2           FDN15        17.50          Low Fat         0.016760   \n",
              "3           FDX07        19.20          Regular         0.000000   \n",
              "4           NCD19         8.93          Low Fat         0.000000   \n",
              "\n",
              "               Item_Type  Item_MRP Outlet_Identifier  \\\n",
              "0                  Dairy  249.8092            OUT049   \n",
              "1            Soft Drinks   48.2692            OUT018   \n",
              "2                   Meat  141.6180            OUT049   \n",
              "3  Fruits and Vegetables  182.0950            OUT010   \n",
              "4              Household   53.8614            OUT013   \n",
              "\n",
              "   Outlet_Establishment_Year Outlet_Size Outlet_Location_Type  \\\n",
              "0                       1999      Medium               Tier 1   \n",
              "1                       2009      Medium               Tier 3   \n",
              "2                       1999      Medium               Tier 1   \n",
              "3                       1998         NaN               Tier 3   \n",
              "4                       1987        High               Tier 3   \n",
              "\n",
              "         Outlet_Type  Item_Outlet_Sales  \n",
              "0  Supermarket Type1          3735.1380  \n",
              "1  Supermarket Type2           443.4228  \n",
              "2  Supermarket Type1          2097.2700  \n",
              "3      Grocery Store           732.3800  \n",
              "4  Supermarket Type1           994.7052  "
            ],
            "text/html": [
              "\n",
              "  <div id=\"df-b803ac9c-d2de-4ae1-a552-c0abbfce8163\">\n",
              "    <div class=\"colab-df-container\">\n",
              "      <div>\n",
              "<style scoped>\n",
              "    .dataframe tbody tr th:only-of-type {\n",
              "        vertical-align: middle;\n",
              "    }\n",
              "\n",
              "    .dataframe tbody tr th {\n",
              "        vertical-align: top;\n",
              "    }\n",
              "\n",
              "    .dataframe thead th {\n",
              "        text-align: right;\n",
              "    }\n",
              "</style>\n",
              "<table border=\"1\" class=\"dataframe\">\n",
              "  <thead>\n",
              "    <tr style=\"text-align: right;\">\n",
              "      <th></th>\n",
              "      <th>Item_Identifier</th>\n",
              "      <th>Item_Weight</th>\n",
              "      <th>Item_Fat_Content</th>\n",
              "      <th>Item_Visibility</th>\n",
              "      <th>Item_Type</th>\n",
              "      <th>Item_MRP</th>\n",
              "      <th>Outlet_Identifier</th>\n",
              "      <th>Outlet_Establishment_Year</th>\n",
              "      <th>Outlet_Size</th>\n",
              "      <th>Outlet_Location_Type</th>\n",
              "      <th>Outlet_Type</th>\n",
              "      <th>Item_Outlet_Sales</th>\n",
              "    </tr>\n",
              "  </thead>\n",
              "  <tbody>\n",
              "    <tr>\n",
              "      <th>0</th>\n",
              "      <td>FDA15</td>\n",
              "      <td>9.30</td>\n",
              "      <td>Low Fat</td>\n",
              "      <td>0.016047</td>\n",
              "      <td>Dairy</td>\n",
              "      <td>249.8092</td>\n",
              "      <td>OUT049</td>\n",
              "      <td>1999</td>\n",
              "      <td>Medium</td>\n",
              "      <td>Tier 1</td>\n",
              "      <td>Supermarket Type1</td>\n",
              "      <td>3735.1380</td>\n",
              "    </tr>\n",
              "    <tr>\n",
              "      <th>1</th>\n",
              "      <td>DRC01</td>\n",
              "      <td>5.92</td>\n",
              "      <td>Regular</td>\n",
              "      <td>0.019278</td>\n",
              "      <td>Soft Drinks</td>\n",
              "      <td>48.2692</td>\n",
              "      <td>OUT018</td>\n",
              "      <td>2009</td>\n",
              "      <td>Medium</td>\n",
              "      <td>Tier 3</td>\n",
              "      <td>Supermarket Type2</td>\n",
              "      <td>443.4228</td>\n",
              "    </tr>\n",
              "    <tr>\n",
              "      <th>2</th>\n",
              "      <td>FDN15</td>\n",
              "      <td>17.50</td>\n",
              "      <td>Low Fat</td>\n",
              "      <td>0.016760</td>\n",
              "      <td>Meat</td>\n",
              "      <td>141.6180</td>\n",
              "      <td>OUT049</td>\n",
              "      <td>1999</td>\n",
              "      <td>Medium</td>\n",
              "      <td>Tier 1</td>\n",
              "      <td>Supermarket Type1</td>\n",
              "      <td>2097.2700</td>\n",
              "    </tr>\n",
              "    <tr>\n",
              "      <th>3</th>\n",
              "      <td>FDX07</td>\n",
              "      <td>19.20</td>\n",
              "      <td>Regular</td>\n",
              "      <td>0.000000</td>\n",
              "      <td>Fruits and Vegetables</td>\n",
              "      <td>182.0950</td>\n",
              "      <td>OUT010</td>\n",
              "      <td>1998</td>\n",
              "      <td>NaN</td>\n",
              "      <td>Tier 3</td>\n",
              "      <td>Grocery Store</td>\n",
              "      <td>732.3800</td>\n",
              "    </tr>\n",
              "    <tr>\n",
              "      <th>4</th>\n",
              "      <td>NCD19</td>\n",
              "      <td>8.93</td>\n",
              "      <td>Low Fat</td>\n",
              "      <td>0.000000</td>\n",
              "      <td>Household</td>\n",
              "      <td>53.8614</td>\n",
              "      <td>OUT013</td>\n",
              "      <td>1987</td>\n",
              "      <td>High</td>\n",
              "      <td>Tier 3</td>\n",
              "      <td>Supermarket Type1</td>\n",
              "      <td>994.7052</td>\n",
              "    </tr>\n",
              "  </tbody>\n",
              "</table>\n",
              "</div>\n",
              "      <button class=\"colab-df-convert\" onclick=\"convertToInteractive('df-b803ac9c-d2de-4ae1-a552-c0abbfce8163')\"\n",
              "              title=\"Convert this dataframe to an interactive table.\"\n",
              "              style=\"display:none;\">\n",
              "        \n",
              "  <svg xmlns=\"http://www.w3.org/2000/svg\" height=\"24px\"viewBox=\"0 0 24 24\"\n",
              "       width=\"24px\">\n",
              "    <path d=\"M0 0h24v24H0V0z\" fill=\"none\"/>\n",
              "    <path d=\"M18.56 5.44l.94 2.06.94-2.06 2.06-.94-2.06-.94-.94-2.06-.94 2.06-2.06.94zm-11 1L8.5 8.5l.94-2.06 2.06-.94-2.06-.94L8.5 2.5l-.94 2.06-2.06.94zm10 10l.94 2.06.94-2.06 2.06-.94-2.06-.94-.94-2.06-.94 2.06-2.06.94z\"/><path d=\"M17.41 7.96l-1.37-1.37c-.4-.4-.92-.59-1.43-.59-.52 0-1.04.2-1.43.59L10.3 9.45l-7.72 7.72c-.78.78-.78 2.05 0 2.83L4 21.41c.39.39.9.59 1.41.59.51 0 1.02-.2 1.41-.59l7.78-7.78 2.81-2.81c.8-.78.8-2.07 0-2.86zM5.41 20L4 18.59l7.72-7.72 1.47 1.35L5.41 20z\"/>\n",
              "  </svg>\n",
              "      </button>\n",
              "      \n",
              "  <style>\n",
              "    .colab-df-container {\n",
              "      display:flex;\n",
              "      flex-wrap:wrap;\n",
              "      gap: 12px;\n",
              "    }\n",
              "\n",
              "    .colab-df-convert {\n",
              "      background-color: #E8F0FE;\n",
              "      border: none;\n",
              "      border-radius: 50%;\n",
              "      cursor: pointer;\n",
              "      display: none;\n",
              "      fill: #1967D2;\n",
              "      height: 32px;\n",
              "      padding: 0 0 0 0;\n",
              "      width: 32px;\n",
              "    }\n",
              "\n",
              "    .colab-df-convert:hover {\n",
              "      background-color: #E2EBFA;\n",
              "      box-shadow: 0px 1px 2px rgba(60, 64, 67, 0.3), 0px 1px 3px 1px rgba(60, 64, 67, 0.15);\n",
              "      fill: #174EA6;\n",
              "    }\n",
              "\n",
              "    [theme=dark] .colab-df-convert {\n",
              "      background-color: #3B4455;\n",
              "      fill: #D2E3FC;\n",
              "    }\n",
              "\n",
              "    [theme=dark] .colab-df-convert:hover {\n",
              "      background-color: #434B5C;\n",
              "      box-shadow: 0px 1px 3px 1px rgba(0, 0, 0, 0.15);\n",
              "      filter: drop-shadow(0px 1px 2px rgba(0, 0, 0, 0.3));\n",
              "      fill: #FFFFFF;\n",
              "    }\n",
              "  </style>\n",
              "\n",
              "      <script>\n",
              "        const buttonEl =\n",
              "          document.querySelector('#df-b803ac9c-d2de-4ae1-a552-c0abbfce8163 button.colab-df-convert');\n",
              "        buttonEl.style.display =\n",
              "          google.colab.kernel.accessAllowed ? 'block' : 'none';\n",
              "\n",
              "        async function convertToInteractive(key) {\n",
              "          const element = document.querySelector('#df-b803ac9c-d2de-4ae1-a552-c0abbfce8163');\n",
              "          const dataTable =\n",
              "            await google.colab.kernel.invokeFunction('convertToInteractive',\n",
              "                                                     [key], {});\n",
              "          if (!dataTable) return;\n",
              "\n",
              "          const docLinkHtml = 'Like what you see? Visit the ' +\n",
              "            '<a target=\"_blank\" href=https://colab.research.google.com/notebooks/data_table.ipynb>data table notebook</a>'\n",
              "            + ' to learn more about interactive tables.';\n",
              "          element.innerHTML = '';\n",
              "          dataTable['output_type'] = 'display_data';\n",
              "          await google.colab.output.renderOutput(dataTable, element);\n",
              "          const docLink = document.createElement('div');\n",
              "          docLink.innerHTML = docLinkHtml;\n",
              "          element.appendChild(docLink);\n",
              "        }\n",
              "      </script>\n",
              "    </div>\n",
              "  </div>\n",
              "  "
            ]
          },
          "metadata": {},
          "execution_count": 2
        }
      ],
      "source": [
        "sales = pd.read_csv('/content/drive/MyDrive/Datafiles/sales_predictions.csv')\n",
        "salescopy = sales.copy()\n",
        "sales.info()\n",
        "sales.head()"
      ]
    },
    {
      "cell_type": "markdown",
      "metadata": {
        "id": "vsB5WLWj2JKU"
      },
      "source": [
        "## 3- Data Cleaning\n",
        "*  The data has 8532 rows and 12 columns. Outlet_Establishment_Year seems to be an integer, but its a date-part. I considered changing it to a category, but this will complicate filtering, so I left it as an integer. The rest of the data types seem fine for the first few records. "
      ]
    },
    {
      "cell_type": "markdown",
      "metadata": {
        "id": "HFs834H77NLL"
      },
      "source": [
        "### 3.1- Duplicates\n",
        "First I will check for duplicates and work through those"
      ]
    },
    {
      "cell_type": "code",
      "execution_count": 3,
      "metadata": {
        "id": "l86i_FMFpW73",
        "colab": {
          "base_uri": "https://localhost:8080/"
        },
        "outputId": "4257674a-da19-4c76-98bb-59fa5e4e82c7"
      },
      "outputs": [
        {
          "output_type": "execute_result",
          "data": {
            "text/plain": [
              "0"
            ]
          },
          "metadata": {},
          "execution_count": 3
        }
      ],
      "source": [
        "sales.duplicated().sum()"
      ]
    },
    {
      "cell_type": "markdown",
      "metadata": {
        "id": "MKMKfnBHqG48"
      },
      "source": [
        "*  There are no duplicates in the data.\n",
        "\n"
      ]
    },
    {
      "cell_type": "markdown",
      "metadata": {
        "id": "94DTtjHL7U8g"
      },
      "source": [
        "### 3.2- Missing Values\n",
        "Next I will look for missing values and handle those."
      ]
    },
    {
      "cell_type": "code",
      "execution_count": 4,
      "metadata": {
        "id": "r21Qh9RTqeQ8",
        "colab": {
          "base_uri": "https://localhost:8080/"
        },
        "outputId": "b254e7c3-4fe0-46b4-b292-ff6d5a67adb2"
      },
      "outputs": [
        {
          "output_type": "execute_result",
          "data": {
            "text/plain": [
              "Item_Identifier                 0\n",
              "Item_Weight                  1463\n",
              "Item_Fat_Content                0\n",
              "Item_Visibility                 0\n",
              "Item_Type                       0\n",
              "Item_MRP                        0\n",
              "Outlet_Identifier               0\n",
              "Outlet_Establishment_Year       0\n",
              "Outlet_Size                  2410\n",
              "Outlet_Location_Type            0\n",
              "Outlet_Type                     0\n",
              "Item_Outlet_Sales               0\n",
              "dtype: int64"
            ]
          },
          "metadata": {},
          "execution_count": 4
        }
      ],
      "source": [
        "sales.isnull().sum()"
      ]
    },
    {
      "cell_type": "markdown",
      "metadata": {
        "id": "gFdsaFZ1qk81"
      },
      "source": [
        "*  We have 1463 empty values for Item_Weight and 2410 for Outlet_Size. Both of these are over 17% of the total dataset, so we will not drop the rows. Instead I will look to impute the missing values for those rows."
      ]
    },
    {
      "cell_type": "markdown",
      "metadata": {
        "id": "nushFpBi7aQW"
      },
      "source": [
        "#### 3.2.1- Item_Weight\n",
        "I'll start with Item_Weight"
      ]
    },
    {
      "cell_type": "code",
      "execution_count": 5,
      "metadata": {
        "id": "yQ27qaSWrcoJ",
        "colab": {
          "base_uri": "https://localhost:8080/"
        },
        "outputId": "6c5aef4b-2d50-4951-8e31-13615300bf11"
      },
      "outputs": [
        {
          "output_type": "execute_result",
          "data": {
            "text/plain": [
              "7       FDP10\n",
              "18      DRI11\n",
              "21      FDW12\n",
              "23      FDC37\n",
              "29      FDC14\n",
              "        ...  \n",
              "8463    FDG59\n",
              "8472    NCS41\n",
              "8480    FDQ58\n",
              "8487    DRG13\n",
              "8504    NCN18\n",
              "Name: Item_Identifier, Length: 1142, dtype: object"
            ]
          },
          "metadata": {},
          "execution_count": 5
        }
      ],
      "source": [
        "items_no_weight = sales.loc[sales['Item_Weight'].isnull(),'Item_Identifier']\n",
        "items_no_weight = items_no_weight.drop_duplicates()\n",
        "items_no_weight"
      ]
    },
    {
      "cell_type": "markdown",
      "metadata": {
        "id": "c1g9fV7qaqH7"
      },
      "source": [
        "*  This is a series of all the Item_Identifiers that do not have a weight. I will use this to check if the item has a weight on another row and change the values to that value. Because the Item_Identifier is a unique ID, I can assume that the weights for each ID should be the same, but I will verify that below."
      ]
    },
    {
      "cell_type": "code",
      "execution_count": 6,
      "metadata": {
        "id": "3f4W78DEgufL",
        "colab": {
          "base_uri": "https://localhost:8080/"
        },
        "outputId": "840fa95f-a0e8-4744-8790-d361cbf4862e"
      },
      "outputs": [
        {
          "output_type": "execute_result",
          "data": {
            "text/plain": [
              "(0, 3)"
            ]
          },
          "metadata": {},
          "execution_count": 6
        }
      ],
      "source": [
        "no_weight = sales.merge(items_no_weight, on = 'Item_Identifier', how = 'inner')\n",
        "no_weight = no_weight.dropna(subset = ['Item_Weight']).groupby('Item_Identifier')['Item_Weight'].agg(['min','max'])\n",
        "no_weight['diff'] = no_weight['min'] - no_weight['max']\n",
        "no_weight.loc[no_weight['diff'] != 0,:].shape"
      ]
    },
    {
      "cell_type": "markdown",
      "metadata": {
        "id": "YkNZ7ILQi76r"
      },
      "source": [
        "*  Because there was no rows with differences between the min and max, we can replace all the null rows for Item_weight with the min or max value in the dataframe."
      ]
    },
    {
      "cell_type": "code",
      "execution_count": 7,
      "metadata": {
        "id": "EnSfmN8ooCT6",
        "colab": {
          "base_uri": "https://localhost:8080/"
        },
        "outputId": "044e90e1-1376-47e1-e5a9-767308a6e057"
      },
      "outputs": [
        {
          "output_type": "stream",
          "name": "stdout",
          "text": [
            "<class 'pandas.core.frame.DataFrame'>\n",
            "Int64Index: 8523 entries, 0 to 8522\n",
            "Data columns (total 12 columns):\n",
            " #   Column                     Non-Null Count  Dtype  \n",
            "---  ------                     --------------  -----  \n",
            " 0   Item_Identifier            8523 non-null   object \n",
            " 1   Item_Weight                8519 non-null   float64\n",
            " 2   Item_Fat_Content           8523 non-null   object \n",
            " 3   Item_Visibility            8523 non-null   float64\n",
            " 4   Item_Type                  8523 non-null   object \n",
            " 5   Item_MRP                   8523 non-null   float64\n",
            " 6   Outlet_Identifier          8523 non-null   object \n",
            " 7   Outlet_Establishment_Year  8523 non-null   int64  \n",
            " 8   Outlet_Size                6113 non-null   object \n",
            " 9   Outlet_Location_Type       8523 non-null   object \n",
            " 10  Outlet_Type                8523 non-null   object \n",
            " 11  Item_Outlet_Sales          8523 non-null   float64\n",
            "dtypes: float64(4), int64(1), object(7)\n",
            "memory usage: 865.6+ KB\n"
          ]
        }
      ],
      "source": [
        "no_weight = no_weight.loc[:,'min']\n",
        "sales = sales.merge(no_weight, on = 'Item_Identifier', how = 'left')\n",
        "sales['Item_Weight'].fillna(sales['min'], inplace = True)\n",
        "# Dropping extra column used for filling na\n",
        "sales.drop(columns = ['min'], inplace= True)\n",
        "sales.info()"
      ]
    },
    {
      "cell_type": "markdown",
      "metadata": {
        "id": "3l9f4MvFpkR9"
      },
      "source": [
        "*  We have successfully removed the nulls from Item_Weight, leaving 4 rows behind. Since this is a small subset of the data, we can drop these rows. "
      ]
    },
    {
      "cell_type": "code",
      "execution_count": 8,
      "metadata": {
        "id": "1sdoN8vtpuxe",
        "colab": {
          "base_uri": "https://localhost:8080/"
        },
        "outputId": "6656f71d-9666-486e-858b-5bb3749efff7"
      },
      "outputs": [
        {
          "output_type": "stream",
          "name": "stdout",
          "text": [
            "<class 'pandas.core.frame.DataFrame'>\n",
            "Int64Index: 8519 entries, 0 to 8522\n",
            "Data columns (total 12 columns):\n",
            " #   Column                     Non-Null Count  Dtype  \n",
            "---  ------                     --------------  -----  \n",
            " 0   Item_Identifier            8519 non-null   object \n",
            " 1   Item_Weight                8519 non-null   float64\n",
            " 2   Item_Fat_Content           8519 non-null   object \n",
            " 3   Item_Visibility            8519 non-null   float64\n",
            " 4   Item_Type                  8519 non-null   object \n",
            " 5   Item_MRP                   8519 non-null   float64\n",
            " 6   Outlet_Identifier          8519 non-null   object \n",
            " 7   Outlet_Establishment_Year  8519 non-null   int64  \n",
            " 8   Outlet_Size                6109 non-null   object \n",
            " 9   Outlet_Location_Type       8519 non-null   object \n",
            " 10  Outlet_Type                8519 non-null   object \n",
            " 11  Item_Outlet_Sales          8519 non-null   float64\n",
            "dtypes: float64(4), int64(1), object(7)\n",
            "memory usage: 865.2+ KB\n"
          ]
        }
      ],
      "source": [
        "sales.dropna(subset = ['Item_Weight'],inplace = True)\n",
        "sales.info()"
      ]
    },
    {
      "cell_type": "markdown",
      "metadata": {
        "id": "AIGKHytqp8cx"
      },
      "source": [
        "#### 3.2.2- Outlet_Size\n",
        "I'll now tackle the Outlet_Size column"
      ]
    },
    {
      "cell_type": "code",
      "execution_count": 9,
      "metadata": {
        "id": "isQYfgHMqB_M",
        "colab": {
          "base_uri": "https://localhost:8080/"
        },
        "outputId": "72fd0d91-a5a2-42c6-f53b-87662d937d3d"
      },
      "outputs": [
        {
          "output_type": "stream",
          "name": "stdout",
          "text": [
            "Items without a size make up 2410 rows\n",
            "There are a total of 3 Unique Outlet ID's\n"
          ]
        }
      ],
      "source": [
        "items_no_outlet = sales.loc[sales['Outlet_Size'].isnull(),'Outlet_Identifier']\n",
        "print(f'Items without a size make up {items_no_outlet.shape[0]} rows')\n",
        "items_no_outlet = items_no_outlet.drop_duplicates()\n",
        "print(f\"There are a total of {items_no_outlet.shape[0]} Unique Outlet ID's\")"
      ]
    },
    {
      "cell_type": "code",
      "execution_count": 10,
      "metadata": {
        "id": "_SccF5e2q2Hv",
        "colab": {
          "base_uri": "https://localhost:8080/",
          "height": 49
        },
        "outputId": "be9d7c69-d195-4d6c-ec2b-33f8b9463542"
      },
      "outputs": [
        {
          "output_type": "execute_result",
          "data": {
            "text/plain": [
              "Empty DataFrame\n",
              "Columns: [Item_Identifier, Item_Weight, Item_Fat_Content, Item_Visibility, Item_Type, Item_MRP, Outlet_Identifier, Outlet_Establishment_Year, Outlet_Size, Outlet_Location_Type, Outlet_Type, Item_Outlet_Sales]\n",
              "Index: []"
            ],
            "text/html": [
              "\n",
              "  <div id=\"df-25dbbd9f-e41e-455e-a090-103809aa5705\">\n",
              "    <div class=\"colab-df-container\">\n",
              "      <div>\n",
              "<style scoped>\n",
              "    .dataframe tbody tr th:only-of-type {\n",
              "        vertical-align: middle;\n",
              "    }\n",
              "\n",
              "    .dataframe tbody tr th {\n",
              "        vertical-align: top;\n",
              "    }\n",
              "\n",
              "    .dataframe thead th {\n",
              "        text-align: right;\n",
              "    }\n",
              "</style>\n",
              "<table border=\"1\" class=\"dataframe\">\n",
              "  <thead>\n",
              "    <tr style=\"text-align: right;\">\n",
              "      <th></th>\n",
              "      <th>Item_Identifier</th>\n",
              "      <th>Item_Weight</th>\n",
              "      <th>Item_Fat_Content</th>\n",
              "      <th>Item_Visibility</th>\n",
              "      <th>Item_Type</th>\n",
              "      <th>Item_MRP</th>\n",
              "      <th>Outlet_Identifier</th>\n",
              "      <th>Outlet_Establishment_Year</th>\n",
              "      <th>Outlet_Size</th>\n",
              "      <th>Outlet_Location_Type</th>\n",
              "      <th>Outlet_Type</th>\n",
              "      <th>Item_Outlet_Sales</th>\n",
              "    </tr>\n",
              "  </thead>\n",
              "  <tbody>\n",
              "  </tbody>\n",
              "</table>\n",
              "</div>\n",
              "      <button class=\"colab-df-convert\" onclick=\"convertToInteractive('df-25dbbd9f-e41e-455e-a090-103809aa5705')\"\n",
              "              title=\"Convert this dataframe to an interactive table.\"\n",
              "              style=\"display:none;\">\n",
              "        \n",
              "  <svg xmlns=\"http://www.w3.org/2000/svg\" height=\"24px\"viewBox=\"0 0 24 24\"\n",
              "       width=\"24px\">\n",
              "    <path d=\"M0 0h24v24H0V0z\" fill=\"none\"/>\n",
              "    <path d=\"M18.56 5.44l.94 2.06.94-2.06 2.06-.94-2.06-.94-.94-2.06-.94 2.06-2.06.94zm-11 1L8.5 8.5l.94-2.06 2.06-.94-2.06-.94L8.5 2.5l-.94 2.06-2.06.94zm10 10l.94 2.06.94-2.06 2.06-.94-2.06-.94-.94-2.06-.94 2.06-2.06.94z\"/><path d=\"M17.41 7.96l-1.37-1.37c-.4-.4-.92-.59-1.43-.59-.52 0-1.04.2-1.43.59L10.3 9.45l-7.72 7.72c-.78.78-.78 2.05 0 2.83L4 21.41c.39.39.9.59 1.41.59.51 0 1.02-.2 1.41-.59l7.78-7.78 2.81-2.81c.8-.78.8-2.07 0-2.86zM5.41 20L4 18.59l7.72-7.72 1.47 1.35L5.41 20z\"/>\n",
              "  </svg>\n",
              "      </button>\n",
              "      \n",
              "  <style>\n",
              "    .colab-df-container {\n",
              "      display:flex;\n",
              "      flex-wrap:wrap;\n",
              "      gap: 12px;\n",
              "    }\n",
              "\n",
              "    .colab-df-convert {\n",
              "      background-color: #E8F0FE;\n",
              "      border: none;\n",
              "      border-radius: 50%;\n",
              "      cursor: pointer;\n",
              "      display: none;\n",
              "      fill: #1967D2;\n",
              "      height: 32px;\n",
              "      padding: 0 0 0 0;\n",
              "      width: 32px;\n",
              "    }\n",
              "\n",
              "    .colab-df-convert:hover {\n",
              "      background-color: #E2EBFA;\n",
              "      box-shadow: 0px 1px 2px rgba(60, 64, 67, 0.3), 0px 1px 3px 1px rgba(60, 64, 67, 0.15);\n",
              "      fill: #174EA6;\n",
              "    }\n",
              "\n",
              "    [theme=dark] .colab-df-convert {\n",
              "      background-color: #3B4455;\n",
              "      fill: #D2E3FC;\n",
              "    }\n",
              "\n",
              "    [theme=dark] .colab-df-convert:hover {\n",
              "      background-color: #434B5C;\n",
              "      box-shadow: 0px 1px 3px 1px rgba(0, 0, 0, 0.15);\n",
              "      filter: drop-shadow(0px 1px 2px rgba(0, 0, 0, 0.3));\n",
              "      fill: #FFFFFF;\n",
              "    }\n",
              "  </style>\n",
              "\n",
              "      <script>\n",
              "        const buttonEl =\n",
              "          document.querySelector('#df-25dbbd9f-e41e-455e-a090-103809aa5705 button.colab-df-convert');\n",
              "        buttonEl.style.display =\n",
              "          google.colab.kernel.accessAllowed ? 'block' : 'none';\n",
              "\n",
              "        async function convertToInteractive(key) {\n",
              "          const element = document.querySelector('#df-25dbbd9f-e41e-455e-a090-103809aa5705');\n",
              "          const dataTable =\n",
              "            await google.colab.kernel.invokeFunction('convertToInteractive',\n",
              "                                                     [key], {});\n",
              "          if (!dataTable) return;\n",
              "\n",
              "          const docLinkHtml = 'Like what you see? Visit the ' +\n",
              "            '<a target=\"_blank\" href=https://colab.research.google.com/notebooks/data_table.ipynb>data table notebook</a>'\n",
              "            + ' to learn more about interactive tables.';\n",
              "          element.innerHTML = '';\n",
              "          dataTable['output_type'] = 'display_data';\n",
              "          await google.colab.output.renderOutput(dataTable, element);\n",
              "          const docLink = document.createElement('div');\n",
              "          docLink.innerHTML = docLinkHtml;\n",
              "          element.appendChild(docLink);\n",
              "        }\n",
              "      </script>\n",
              "    </div>\n",
              "  </div>\n",
              "  "
            ]
          },
          "metadata": {},
          "execution_count": 10
        }
      ],
      "source": [
        "no_size = sales.merge(items_no_outlet, on = 'Outlet_Identifier', how = 'inner')\n",
        "no_size.dropna()"
      ]
    },
    {
      "cell_type": "markdown",
      "metadata": {
        "id": "chyUZul5rTQA"
      },
      "source": [
        "*  When going through the same exercise for Outlet_Size, we found that the 3 outlets, which make up 2410 rows, do not have an entry for Outlet_Size. Because its Categorical, we can set the value of the null rows to \"Unknown\" for now."
      ]
    },
    {
      "cell_type": "code",
      "execution_count": 11,
      "metadata": {
        "id": "wuagNGdpr-5F",
        "colab": {
          "base_uri": "https://localhost:8080/"
        },
        "outputId": "daef551d-5d9f-4cec-ba5e-acfd93578ac9"
      },
      "outputs": [
        {
          "output_type": "stream",
          "name": "stdout",
          "text": [
            "<class 'pandas.core.frame.DataFrame'>\n",
            "Int64Index: 8519 entries, 0 to 8522\n",
            "Data columns (total 12 columns):\n",
            " #   Column                     Non-Null Count  Dtype  \n",
            "---  ------                     --------------  -----  \n",
            " 0   Item_Identifier            8519 non-null   object \n",
            " 1   Item_Weight                8519 non-null   float64\n",
            " 2   Item_Fat_Content           8519 non-null   object \n",
            " 3   Item_Visibility            8519 non-null   float64\n",
            " 4   Item_Type                  8519 non-null   object \n",
            " 5   Item_MRP                   8519 non-null   float64\n",
            " 6   Outlet_Identifier          8519 non-null   object \n",
            " 7   Outlet_Establishment_Year  8519 non-null   int64  \n",
            " 8   Outlet_Size                8519 non-null   object \n",
            " 9   Outlet_Location_Type       8519 non-null   object \n",
            " 10  Outlet_Type                8519 non-null   object \n",
            " 11  Item_Outlet_Sales          8519 non-null   float64\n",
            "dtypes: float64(4), int64(1), object(7)\n",
            "memory usage: 865.2+ KB\n"
          ]
        }
      ],
      "source": [
        "sales['Outlet_Size'].fillna('Unknown', inplace = True)\n",
        "sales.info()"
      ]
    },
    {
      "cell_type": "markdown",
      "metadata": {
        "id": "3tOOFEiu35la"
      },
      "source": [
        "### 3.3- Data Normalization\n",
        "*  Now I want to take a look at the objects and normalize them. I want to look at:\n",
        "  *  Item_Fat_Content\n",
        "  *  Item_Type\n",
        "  *  Outlet_Location_Type\n",
        "  *  Outlet_Type\n",
        "  *  Outlet_Size"
      ]
    },
    {
      "cell_type": "code",
      "execution_count": 12,
      "metadata": {
        "id": "QUZepEQV3_sy",
        "colab": {
          "base_uri": "https://localhost:8080/"
        },
        "outputId": "6eed563b-441a-43f4-9b8f-59f5a09c60ee"
      },
      "outputs": [
        {
          "output_type": "execute_result",
          "data": {
            "text/plain": [
              "Item_Fat_Content\n",
              "Low Fat             5088\n",
              "Regular             2886\n",
              "LF                   316\n",
              "reg                  117\n",
              "low fat              112\n",
              "dtype: int64"
            ]
          },
          "metadata": {},
          "execution_count": 12
        }
      ],
      "source": [
        "sales.value_counts(subset = ['Item_Fat_Content'])"
      ]
    },
    {
      "cell_type": "markdown",
      "source": [
        "* Need to make some quick changes to LF, reg, and low fat"
      ],
      "metadata": {
        "id": "QQm1EaFHdxMr"
      }
    },
    {
      "cell_type": "code",
      "execution_count": 13,
      "metadata": {
        "id": "6e5iFkqN4IW-",
        "colab": {
          "base_uri": "https://localhost:8080/"
        },
        "outputId": "f89679ad-cc6a-4ae6-9085-77a4f76395d2"
      },
      "outputs": [
        {
          "output_type": "execute_result",
          "data": {
            "text/plain": [
              "Item_Fat_Content\n",
              "Low Fat    5516\n",
              "Regular    3003\n",
              "dtype: int64"
            ]
          },
          "metadata": {},
          "execution_count": 13
        }
      ],
      "source": [
        "sales['Item_Fat_Content'].replace(['LF','reg','low fat'],['Low Fat','Regular','Low Fat'],inplace = True)\n",
        "sales.value_counts(subset = 'Item_Fat_Content')"
      ]
    },
    {
      "cell_type": "code",
      "execution_count": 14,
      "metadata": {
        "id": "U2_u3sbb4ihZ",
        "colab": {
          "base_uri": "https://localhost:8080/"
        },
        "outputId": "f10025ff-02da-4eb1-9a0e-2a54a4e25b7a"
      },
      "outputs": [
        {
          "output_type": "execute_result",
          "data": {
            "text/plain": [
              "Item_Type            \n",
              "Fruits and Vegetables    1232\n",
              "Snack Foods              1199\n",
              "Household                 910\n",
              "Frozen Foods              855\n",
              "Dairy                     681\n",
              "Canned                    649\n",
              "Baking Goods              647\n",
              "Health and Hygiene        520\n",
              "Soft Drinks               445\n",
              "Meat                      425\n",
              "Breads                    251\n",
              "Hard Drinks               214\n",
              "Others                    169\n",
              "Starchy Foods             148\n",
              "Breakfast                 110\n",
              "Seafood                    64\n",
              "dtype: int64"
            ]
          },
          "metadata": {},
          "execution_count": 14
        }
      ],
      "source": [
        "sales.value_counts(subset = ['Item_Type'])"
      ]
    },
    {
      "cell_type": "code",
      "execution_count": 15,
      "metadata": {
        "id": "hqzjx2LF5EhS",
        "colab": {
          "base_uri": "https://localhost:8080/"
        },
        "outputId": "4049a946-3f9d-4d75-8ebf-5ff595faa152"
      },
      "outputs": [
        {
          "output_type": "execute_result",
          "data": {
            "text/plain": [
              "Outlet_Location_Type\n",
              "Tier 3                  3347\n",
              "Tier 2                  2785\n",
              "Tier 1                  2387\n",
              "dtype: int64"
            ]
          },
          "metadata": {},
          "execution_count": 15
        }
      ],
      "source": [
        "sales.value_counts(subset = ['Outlet_Location_Type'])"
      ]
    },
    {
      "cell_type": "code",
      "execution_count": 16,
      "metadata": {
        "id": "0sFMtEjI5PnG",
        "colab": {
          "base_uri": "https://localhost:8080/"
        },
        "outputId": "b1997636-3018-4ef6-82d0-96cbf5667c28"
      },
      "outputs": [
        {
          "output_type": "execute_result",
          "data": {
            "text/plain": [
              "Outlet_Type      \n",
              "Supermarket Type1    5577\n",
              "Grocery Store        1082\n",
              "Supermarket Type3     932\n",
              "Supermarket Type2     928\n",
              "dtype: int64"
            ]
          },
          "metadata": {},
          "execution_count": 16
        }
      ],
      "source": [
        "sales.value_counts(subset=['Outlet_Type'])"
      ]
    },
    {
      "cell_type": "code",
      "execution_count": 17,
      "metadata": {
        "colab": {
          "base_uri": "https://localhost:8080/"
        },
        "id": "uj__Je9cT6se",
        "outputId": "4f4167dc-8f0a-434f-8577-7836684235f8"
      },
      "outputs": [
        {
          "output_type": "execute_result",
          "data": {
            "text/plain": [
              "Outlet_Size\n",
              "Medium         2790\n",
              "Unknown        2410\n",
              "Small          2387\n",
              "High            932\n",
              "dtype: int64"
            ]
          },
          "metadata": {},
          "execution_count": 17
        }
      ],
      "source": [
        "sales.value_counts(subset = ['Outlet_Size'])"
      ]
    },
    {
      "cell_type": "markdown",
      "source": [
        "* High is a little weird here. Doesn't fully go with the rest of the values. I will change it to Large. This is not a necessity, but it will make it a bit easier to understand and does not take too much time or compute to do."
      ],
      "metadata": {
        "id": "1Tvk8Lb7UVZh"
      }
    },
    {
      "cell_type": "code",
      "source": [
        "sales['Outlet_Size'].replace('High','Large',inplace = True)\n",
        "sales.value_counts(subset = ['Outlet_Size'])"
      ],
      "metadata": {
        "colab": {
          "base_uri": "https://localhost:8080/"
        },
        "id": "St6CdITVUh0G",
        "outputId": "812e98ad-3aaf-4ea1-a740-85ae4f4f3f15"
      },
      "execution_count": 18,
      "outputs": [
        {
          "output_type": "execute_result",
          "data": {
            "text/plain": [
              "Outlet_Size\n",
              "Medium         2790\n",
              "Unknown        2410\n",
              "Small          2387\n",
              "Large           932\n",
              "dtype: int64"
            ]
          },
          "metadata": {},
          "execution_count": 18
        }
      ]
    },
    {
      "cell_type": "markdown",
      "metadata": {
        "id": "vetaHCms5WSm"
      },
      "source": [
        "*  These datatypes look good!"
      ]
    },
    {
      "cell_type": "markdown",
      "metadata": {
        "id": "NX7UX-HS8Ls9"
      },
      "source": [
        "### 3.4- Quick Descriptive Statistics\n",
        "*  Finally we will look at some descriptive statistics for each of the numeric columns"
      ]
    },
    {
      "cell_type": "code",
      "execution_count": 19,
      "metadata": {
        "id": "KRy85RPN6Qto",
        "colab": {
          "base_uri": "https://localhost:8080/",
          "height": 300
        },
        "outputId": "33680585-d7a2-4a59-aa58-517d662959bf"
      },
      "outputs": [
        {
          "output_type": "execute_result",
          "data": {
            "text/plain": [
              "       Item_Weight  Item_Visibility     Item_MRP  Outlet_Establishment_Year  \\\n",
              "count  8519.000000      8519.000000  8519.000000                8519.000000   \n",
              "mean     12.875420         0.066112   141.010019                1997.837892   \n",
              "std       4.646098         0.051586    62.283594                   8.369105   \n",
              "min       4.555000         0.000000    31.290000                1985.000000   \n",
              "25%       8.785000         0.026983    93.844900                1987.000000   \n",
              "50%      12.650000         0.053925   143.047000                1999.000000   \n",
              "75%      16.850000         0.094558   185.676600                2004.000000   \n",
              "max      21.350000         0.328391   266.888400                2009.000000   \n",
              "\n",
              "       Item_Outlet_Sales  \n",
              "count        8519.000000  \n",
              "mean         2181.188779  \n",
              "std          1706.511093  \n",
              "min            33.290000  \n",
              "25%           834.247400  \n",
              "50%          1794.331000  \n",
              "75%          3100.630600  \n",
              "max         13086.964800  "
            ],
            "text/html": [
              "\n",
              "  <div id=\"df-0804f39e-8409-46c1-9f64-ecf01fd9bcb8\">\n",
              "    <div class=\"colab-df-container\">\n",
              "      <div>\n",
              "<style scoped>\n",
              "    .dataframe tbody tr th:only-of-type {\n",
              "        vertical-align: middle;\n",
              "    }\n",
              "\n",
              "    .dataframe tbody tr th {\n",
              "        vertical-align: top;\n",
              "    }\n",
              "\n",
              "    .dataframe thead th {\n",
              "        text-align: right;\n",
              "    }\n",
              "</style>\n",
              "<table border=\"1\" class=\"dataframe\">\n",
              "  <thead>\n",
              "    <tr style=\"text-align: right;\">\n",
              "      <th></th>\n",
              "      <th>Item_Weight</th>\n",
              "      <th>Item_Visibility</th>\n",
              "      <th>Item_MRP</th>\n",
              "      <th>Outlet_Establishment_Year</th>\n",
              "      <th>Item_Outlet_Sales</th>\n",
              "    </tr>\n",
              "  </thead>\n",
              "  <tbody>\n",
              "    <tr>\n",
              "      <th>count</th>\n",
              "      <td>8519.000000</td>\n",
              "      <td>8519.000000</td>\n",
              "      <td>8519.000000</td>\n",
              "      <td>8519.000000</td>\n",
              "      <td>8519.000000</td>\n",
              "    </tr>\n",
              "    <tr>\n",
              "      <th>mean</th>\n",
              "      <td>12.875420</td>\n",
              "      <td>0.066112</td>\n",
              "      <td>141.010019</td>\n",
              "      <td>1997.837892</td>\n",
              "      <td>2181.188779</td>\n",
              "    </tr>\n",
              "    <tr>\n",
              "      <th>std</th>\n",
              "      <td>4.646098</td>\n",
              "      <td>0.051586</td>\n",
              "      <td>62.283594</td>\n",
              "      <td>8.369105</td>\n",
              "      <td>1706.511093</td>\n",
              "    </tr>\n",
              "    <tr>\n",
              "      <th>min</th>\n",
              "      <td>4.555000</td>\n",
              "      <td>0.000000</td>\n",
              "      <td>31.290000</td>\n",
              "      <td>1985.000000</td>\n",
              "      <td>33.290000</td>\n",
              "    </tr>\n",
              "    <tr>\n",
              "      <th>25%</th>\n",
              "      <td>8.785000</td>\n",
              "      <td>0.026983</td>\n",
              "      <td>93.844900</td>\n",
              "      <td>1987.000000</td>\n",
              "      <td>834.247400</td>\n",
              "    </tr>\n",
              "    <tr>\n",
              "      <th>50%</th>\n",
              "      <td>12.650000</td>\n",
              "      <td>0.053925</td>\n",
              "      <td>143.047000</td>\n",
              "      <td>1999.000000</td>\n",
              "      <td>1794.331000</td>\n",
              "    </tr>\n",
              "    <tr>\n",
              "      <th>75%</th>\n",
              "      <td>16.850000</td>\n",
              "      <td>0.094558</td>\n",
              "      <td>185.676600</td>\n",
              "      <td>2004.000000</td>\n",
              "      <td>3100.630600</td>\n",
              "    </tr>\n",
              "    <tr>\n",
              "      <th>max</th>\n",
              "      <td>21.350000</td>\n",
              "      <td>0.328391</td>\n",
              "      <td>266.888400</td>\n",
              "      <td>2009.000000</td>\n",
              "      <td>13086.964800</td>\n",
              "    </tr>\n",
              "  </tbody>\n",
              "</table>\n",
              "</div>\n",
              "      <button class=\"colab-df-convert\" onclick=\"convertToInteractive('df-0804f39e-8409-46c1-9f64-ecf01fd9bcb8')\"\n",
              "              title=\"Convert this dataframe to an interactive table.\"\n",
              "              style=\"display:none;\">\n",
              "        \n",
              "  <svg xmlns=\"http://www.w3.org/2000/svg\" height=\"24px\"viewBox=\"0 0 24 24\"\n",
              "       width=\"24px\">\n",
              "    <path d=\"M0 0h24v24H0V0z\" fill=\"none\"/>\n",
              "    <path d=\"M18.56 5.44l.94 2.06.94-2.06 2.06-.94-2.06-.94-.94-2.06-.94 2.06-2.06.94zm-11 1L8.5 8.5l.94-2.06 2.06-.94-2.06-.94L8.5 2.5l-.94 2.06-2.06.94zm10 10l.94 2.06.94-2.06 2.06-.94-2.06-.94-.94-2.06-.94 2.06-2.06.94z\"/><path d=\"M17.41 7.96l-1.37-1.37c-.4-.4-.92-.59-1.43-.59-.52 0-1.04.2-1.43.59L10.3 9.45l-7.72 7.72c-.78.78-.78 2.05 0 2.83L4 21.41c.39.39.9.59 1.41.59.51 0 1.02-.2 1.41-.59l7.78-7.78 2.81-2.81c.8-.78.8-2.07 0-2.86zM5.41 20L4 18.59l7.72-7.72 1.47 1.35L5.41 20z\"/>\n",
              "  </svg>\n",
              "      </button>\n",
              "      \n",
              "  <style>\n",
              "    .colab-df-container {\n",
              "      display:flex;\n",
              "      flex-wrap:wrap;\n",
              "      gap: 12px;\n",
              "    }\n",
              "\n",
              "    .colab-df-convert {\n",
              "      background-color: #E8F0FE;\n",
              "      border: none;\n",
              "      border-radius: 50%;\n",
              "      cursor: pointer;\n",
              "      display: none;\n",
              "      fill: #1967D2;\n",
              "      height: 32px;\n",
              "      padding: 0 0 0 0;\n",
              "      width: 32px;\n",
              "    }\n",
              "\n",
              "    .colab-df-convert:hover {\n",
              "      background-color: #E2EBFA;\n",
              "      box-shadow: 0px 1px 2px rgba(60, 64, 67, 0.3), 0px 1px 3px 1px rgba(60, 64, 67, 0.15);\n",
              "      fill: #174EA6;\n",
              "    }\n",
              "\n",
              "    [theme=dark] .colab-df-convert {\n",
              "      background-color: #3B4455;\n",
              "      fill: #D2E3FC;\n",
              "    }\n",
              "\n",
              "    [theme=dark] .colab-df-convert:hover {\n",
              "      background-color: #434B5C;\n",
              "      box-shadow: 0px 1px 3px 1px rgba(0, 0, 0, 0.15);\n",
              "      filter: drop-shadow(0px 1px 2px rgba(0, 0, 0, 0.3));\n",
              "      fill: #FFFFFF;\n",
              "    }\n",
              "  </style>\n",
              "\n",
              "      <script>\n",
              "        const buttonEl =\n",
              "          document.querySelector('#df-0804f39e-8409-46c1-9f64-ecf01fd9bcb8 button.colab-df-convert');\n",
              "        buttonEl.style.display =\n",
              "          google.colab.kernel.accessAllowed ? 'block' : 'none';\n",
              "\n",
              "        async function convertToInteractive(key) {\n",
              "          const element = document.querySelector('#df-0804f39e-8409-46c1-9f64-ecf01fd9bcb8');\n",
              "          const dataTable =\n",
              "            await google.colab.kernel.invokeFunction('convertToInteractive',\n",
              "                                                     [key], {});\n",
              "          if (!dataTable) return;\n",
              "\n",
              "          const docLinkHtml = 'Like what you see? Visit the ' +\n",
              "            '<a target=\"_blank\" href=https://colab.research.google.com/notebooks/data_table.ipynb>data table notebook</a>'\n",
              "            + ' to learn more about interactive tables.';\n",
              "          element.innerHTML = '';\n",
              "          dataTable['output_type'] = 'display_data';\n",
              "          await google.colab.output.renderOutput(dataTable, element);\n",
              "          const docLink = document.createElement('div');\n",
              "          docLink.innerHTML = docLinkHtml;\n",
              "          element.appendChild(docLink);\n",
              "        }\n",
              "      </script>\n",
              "    </div>\n",
              "  </div>\n",
              "  "
            ]
          },
          "metadata": {},
          "execution_count": 19
        }
      ],
      "source": [
        "sales.describe()"
      ]
    },
    {
      "cell_type": "markdown",
      "metadata": {
        "id": "rqyMkmIf2QmI"
      },
      "source": [
        "## 4- Exploratory Visuals"
      ]
    },
    {
      "cell_type": "markdown",
      "source": [
        "### 4-1 Correlation\n",
        "I want to start with a correlation heatmap to see the relationship between my columns."
      ],
      "metadata": {
        "id": "H2j5Dvk0Vttb"
      }
    },
    {
      "cell_type": "code",
      "execution_count": 20,
      "metadata": {
        "id": "Sz_Q3z8S2VIi",
        "colab": {
          "base_uri": "https://localhost:8080/",
          "height": 392
        },
        "outputId": "f584b054-b1ce-42a9-e2c1-35c831f562fd"
      },
      "outputs": [
        {
          "output_type": "display_data",
          "data": {
            "text/plain": [
              "<Figure size 432x288 with 2 Axes>"
            ],
            "image/png": "[encoded data removed]"
          },
          "metadata": {
            "needs_background": "light"
          }
        }
      ],
      "source": [
        "corr = sales.corr()\n",
        "sns.heatmap(corr, cmap = 'Blues',annot=True);"
      ]
    },
    {
      "cell_type": "markdown",
      "source": [
        "* There doesn't seem to be a strong correlaton between any major columns. Item_MRP and Item_Outlet_Sales have a positive correlation of 0.57, which intuitively makes sense. \n",
        "* Next I want to dig into the columns individually. \n",
        "  * Note: I will not show the iterations for the graphs below as it will take up too much real estate, I will just show the final product."
      ],
      "metadata": {
        "id": "Sxab33A9WjhX"
      }
    },
    {
      "cell_type": "markdown",
      "source": [
        "* I am going to run similar code multiple times, so I'll create some simple functions to explore each column."
      ],
      "metadata": {
        "id": "lCF1mH7KlV8v"
      }
    },
    {
      "cell_type": "code",
      "source": [
        "def catdata(data, columns):\n",
        "  print(f'Count of Values: \\n{data[columns].value_counts()} \\n')\n",
        "  print(f'Statistical Description: \\n {data[columns].describe()}')\n",
        "  labelorder = data.value_counts(subset = columns).index\n",
        "  figmain, axmain = plt.subplots(figsize =(8,4))\n",
        "\n",
        "  sns.countplot(data = data, y = columns, order = labelorder)\n",
        "  axmain.set_title(f'Counts for {columns}', fontsize = 12)\n",
        "  figmain.show()\n",
        "\n",
        "def numdata(data,columns):\n",
        "  print(f'Statistical Description: \\n {data[columns].describe()} \\n')\n",
        "  #labelorder = data.value_counts(subset = columns).index\n",
        "  figmain, axmain = plt.subplots(ncols = 2, figsize =(16,4))\n",
        "\n",
        "  sns.histplot(data = data, x = columns, ax = axmain[0])\n",
        "  axmain[0].set_title(f'Histogram distribution for {columns}', fontsize = 12)\n",
        "  sns.boxplot(data = data, x = columns, ax = axmain[1])\n",
        "  axmain[1].set_title(f'Boxplot Distribution for {columns}', fontsize = 12)\n",
        "  figmain.suptitle(f'Hist & Boxplot for {columns}', fontsize = 18)\n",
        "  figmain.tight_layout()\n",
        " \n",
        "  figmain.show()\n"
      ],
      "metadata": {
        "id": "nr4pVRP3giLO"
      },
      "execution_count": 21,
      "outputs": []
    },
    {
      "cell_type": "markdown",
      "source": [
        "### 4-2 Numerical Data\n",
        "* Now to dig into the columns using these functions, starting with the numerical data\n",
        "  * Item_Weight\n",
        "  * Item_Visibility\n",
        "  * Item_MRP\n",
        "  * Item_Outlet_Sales"
      ],
      "metadata": {
        "id": "XjL4piyIvSMq"
      }
    },
    {
      "cell_type": "code",
      "source": [
        "numdata(sales,'Item_Weight')"
      ],
      "metadata": {
        "colab": {
          "base_uri": "https://localhost:8080/",
          "height": 493
        },
        "id": "uJ9De58KxZ5k",
        "outputId": "a18faabc-8d04-4bca-e97a-c654412125fb"
      },
      "execution_count": 22,
      "outputs": [
        {
          "output_type": "stream",
          "name": "stdout",
          "text": [
            "Statistical Description: \n",
            " count    8519.000000\n",
            "mean       12.875420\n",
            "std         4.646098\n",
            "min         4.555000\n",
            "25%         8.785000\n",
            "50%        12.650000\n",
            "75%        16.850000\n",
            "max        21.350000\n",
            "Name: Item_Weight, dtype: float64 \n",
            "\n"
          ]
        },
        {
          "output_type": "display_data",
          "data": {
            "text/plain": [
              "<Figure size 1152x288 with 2 Axes>"
            ],
            "image/png": "[encoded data removed]"
          },
          "metadata": {
            "needs_background": "light"
          }
        }
      ]
    },
    {
      "cell_type": "markdown",
      "source": [
        "* This has a somewhat normal distribution with no outliers to show"
      ],
      "metadata": {
        "id": "sxDQ68o5x2pb"
      }
    },
    {
      "cell_type": "code",
      "source": [
        "numdata(sales,'Item_Visibility')"
      ],
      "metadata": {
        "colab": {
          "base_uri": "https://localhost:8080/",
          "height": 493
        },
        "id": "SHzGtUEZiYV2",
        "outputId": "c822d5d4-1f64-46e6-f457-a20333c15cf9"
      },
      "execution_count": 23,
      "outputs": [
        {
          "output_type": "stream",
          "name": "stdout",
          "text": [
            "Statistical Description: \n",
            " count    8519.000000\n",
            "mean        0.066112\n",
            "std         0.051586\n",
            "min         0.000000\n",
            "25%         0.026983\n",
            "50%         0.053925\n",
            "75%         0.094558\n",
            "max         0.328391\n",
            "Name: Item_Visibility, dtype: float64 \n",
            "\n"
          ]
        },
        {
          "output_type": "display_data",
          "data": {
            "text/plain": [
              "<Figure size 1152x288 with 2 Axes>"
            ],
            "image/png": "[encoded data removed]"
          },
          "metadata": {
            "needs_background": "light"
          }
        }
      ]
    },
    {
      "cell_type": "markdown",
      "source": [
        "* We can see that most of the data is concentrated below 0.10 for Item Visibility. The data has positive skew, and there are a lot of outliers."
      ],
      "metadata": {
        "id": "LNvoyP7ZwJza"
      }
    },
    {
      "cell_type": "code",
      "source": [
        "numdata(sales, 'Item_MRP')"
      ],
      "metadata": {
        "colab": {
          "base_uri": "https://localhost:8080/",
          "height": 493
        },
        "id": "jievCb0EyTpr",
        "outputId": "3f621c34-b56c-4cf9-be51-3442d7bbf15a"
      },
      "execution_count": 24,
      "outputs": [
        {
          "output_type": "stream",
          "name": "stdout",
          "text": [
            "Statistical Description: \n",
            " count    8519.000000\n",
            "mean      141.010019\n",
            "std        62.283594\n",
            "min        31.290000\n",
            "25%        93.844900\n",
            "50%       143.047000\n",
            "75%       185.676600\n",
            "max       266.888400\n",
            "Name: Item_MRP, dtype: float64 \n",
            "\n"
          ]
        },
        {
          "output_type": "display_data",
          "data": {
            "text/plain": [
              "<Figure size 1152x288 with 2 Axes>"
            ],
            "image/png": "[encoded data removed]"
          },
          "metadata": {
            "needs_background": "light"
          }
        }
      ]
    },
    {
      "cell_type": "markdown",
      "source": [
        "* Item MRP has a somewhat normal distribution, with some negative skew. No outliers"
      ],
      "metadata": {
        "id": "EcIdXCRryi53"
      }
    },
    {
      "cell_type": "code",
      "source": [
        "numdata(sales, 'Item_Outlet_Sales')"
      ],
      "metadata": {
        "colab": {
          "base_uri": "https://localhost:8080/",
          "height": 493
        },
        "id": "8pAQ_WeTytpk",
        "outputId": "4389ef85-14cf-4898-f960-0e603cd924c9"
      },
      "execution_count": 25,
      "outputs": [
        {
          "output_type": "stream",
          "name": "stdout",
          "text": [
            "Statistical Description: \n",
            " count     8519.000000\n",
            "mean      2181.188779\n",
            "std       1706.511093\n",
            "min         33.290000\n",
            "25%        834.247400\n",
            "50%       1794.331000\n",
            "75%       3100.630600\n",
            "max      13086.964800\n",
            "Name: Item_Outlet_Sales, dtype: float64 \n",
            "\n"
          ]
        },
        {
          "output_type": "display_data",
          "data": {
            "text/plain": [
              "<Figure size 1152x288 with 2 Axes>"
            ],
            "image/png": "[encoded data removed]"
          },
          "metadata": {
            "needs_background": "light"
          }
        }
      ]
    },
    {
      "cell_type": "markdown",
      "source": [
        "* Left to right descending histogram. Most of the data is below 3k, with a lot of outliers past the boxplot maximum."
      ],
      "metadata": {
        "id": "x6bkKPSUy4pB"
      }
    },
    {
      "cell_type": "markdown",
      "source": [
        "### 4-3 Categorical Data\n",
        "* Now to work on the categorical data\n",
        "  *  Item_Fat_Content\n",
        "  *  Item_Type\n",
        "  *  Outlet_Location_Type\n",
        "  *  Outlet_Type\n",
        "  *  Outlet_Size\n",
        "  *  Outlet_Establishment_Year"
      ],
      "metadata": {
        "id": "3janr8wazEk8"
      }
    },
    {
      "cell_type": "code",
      "source": [
        "catdata(sales, 'Item_Fat_Content')"
      ],
      "metadata": {
        "colab": {
          "base_uri": "https://localhost:8080/",
          "height": 486
        },
        "id": "Z9UBnFiuzgSc",
        "outputId": "4ddfbbc9-6257-4a0f-936d-4d31f87959db"
      },
      "execution_count": 26,
      "outputs": [
        {
          "output_type": "stream",
          "name": "stdout",
          "text": [
            "Count of Values: \n",
            "Low Fat    5516\n",
            "Regular    3003\n",
            "Name: Item_Fat_Content, dtype: int64 \n",
            "\n",
            "Statistical Description: \n",
            " count        8519\n",
            "unique          2\n",
            "top       Low Fat\n",
            "freq         5516\n",
            "Name: Item_Fat_Content, dtype: object\n"
          ]
        },
        {
          "output_type": "display_data",
          "data": {
            "text/plain": [
              "<Figure size 576x288 with 1 Axes>"
            ],
            "image/png": "[encoded data removed]"
          },
          "metadata": {
            "needs_background": "light"
          }
        }
      ]
    },
    {
      "cell_type": "markdown",
      "source": [
        "* Most items are Low Fat. 2 values"
      ],
      "metadata": {
        "id": "ErKek2y4zmZI"
      }
    },
    {
      "cell_type": "code",
      "source": [
        "catdata(sales, 'Item_Type')"
      ],
      "metadata": {
        "colab": {
          "base_uri": "https://localhost:8080/",
          "height": 729
        },
        "id": "PpA05-zqzpk-",
        "outputId": "ae7f7291-7f43-4000-8d2f-4ef769f68f1a"
      },
      "execution_count": 27,
      "outputs": [
        {
          "output_type": "stream",
          "name": "stdout",
          "text": [
            "Count of Values: \n",
            "Fruits and Vegetables    1232\n",
            "Snack Foods              1199\n",
            "Household                 910\n",
            "Frozen Foods              855\n",
            "Dairy                     681\n",
            "Canned                    649\n",
            "Baking Goods              647\n",
            "Health and Hygiene        520\n",
            "Soft Drinks               445\n",
            "Meat                      425\n",
            "Breads                    251\n",
            "Hard Drinks               214\n",
            "Others                    169\n",
            "Starchy Foods             148\n",
            "Breakfast                 110\n",
            "Seafood                    64\n",
            "Name: Item_Type, dtype: int64 \n",
            "\n",
            "Statistical Description: \n",
            " count                      8519\n",
            "unique                       16\n",
            "top       Fruits and Vegetables\n",
            "freq                       1232\n",
            "Name: Item_Type, dtype: object\n"
          ]
        },
        {
          "output_type": "display_data",
          "data": {
            "text/plain": [
              "<Figure size 576x288 with 1 Axes>"
            ],
            "image/png": "[encoded data removed]"
          },
          "metadata": {
            "needs_background": "light"
          }
        }
      ]
    },
    {
      "cell_type": "markdown",
      "source": [
        "* Most of the items are Fruits and Vegetables. There is a large discrepancy between the top items and the bottom items."
      ],
      "metadata": {
        "id": "hwIhq6a5zuk4"
      }
    },
    {
      "cell_type": "code",
      "source": [
        "catdata(sales, 'Outlet_Location_Type')"
      ],
      "metadata": {
        "colab": {
          "base_uri": "https://localhost:8080/",
          "height": 503
        },
        "id": "IH2encTXz53z",
        "outputId": "f2454f46-e51c-44b2-ab03-1113686aa4c6"
      },
      "execution_count": 28,
      "outputs": [
        {
          "output_type": "stream",
          "name": "stdout",
          "text": [
            "Count of Values: \n",
            "Tier 3    3347\n",
            "Tier 2    2785\n",
            "Tier 1    2387\n",
            "Name: Outlet_Location_Type, dtype: int64 \n",
            "\n",
            "Statistical Description: \n",
            " count       8519\n",
            "unique         3\n",
            "top       Tier 3\n",
            "freq        3347\n",
            "Name: Outlet_Location_Type, dtype: object\n"
          ]
        },
        {
          "output_type": "display_data",
          "data": {
            "text/plain": [
              "<Figure size 576x288 with 1 Axes>"
            ],
            "image/png": "[encoded data removed]"
          },
          "metadata": {
            "needs_background": "light"
          }
        }
      ]
    },
    {
      "cell_type": "markdown",
      "source": [
        "* Somewhat close in value here. Tier 3 is the most common type of location, while tier 1 is the least common in the dataset"
      ],
      "metadata": {
        "id": "La5KWfsc0Cea"
      }
    },
    {
      "cell_type": "code",
      "source": [
        "catdata(sales, 'Outlet_Type')"
      ],
      "metadata": {
        "colab": {
          "base_uri": "https://localhost:8080/",
          "height": 521
        },
        "id": "zTOWVbHw0SjU",
        "outputId": "aca1e454-68c5-4b9f-8706-edc61829816b"
      },
      "execution_count": 29,
      "outputs": [
        {
          "output_type": "stream",
          "name": "stdout",
          "text": [
            "Count of Values: \n",
            "Supermarket Type1    5577\n",
            "Grocery Store        1082\n",
            "Supermarket Type3     932\n",
            "Supermarket Type2     928\n",
            "Name: Outlet_Type, dtype: int64 \n",
            "\n",
            "Statistical Description: \n",
            " count                  8519\n",
            "unique                    4\n",
            "top       Supermarket Type1\n",
            "freq                   5577\n",
            "Name: Outlet_Type, dtype: object\n"
          ]
        },
        {
          "output_type": "display_data",
          "data": {
            "text/plain": [
              "<Figure size 576x288 with 1 Axes>"
            ],
            "image/png": "[encoded data removed]"
          },
          "metadata": {
            "needs_background": "light"
          }
        }
      ]
    },
    {
      "cell_type": "markdown",
      "source": [
        "* Almost all supermarket type1's. Curious that the other 3 labels are tightly grouped"
      ],
      "metadata": {
        "id": "NHFizii80Ymt"
      }
    },
    {
      "cell_type": "code",
      "source": [
        "catdata(sales, 'Outlet_Size')"
      ],
      "metadata": {
        "colab": {
          "base_uri": "https://localhost:8080/",
          "height": 521
        },
        "id": "l1N2HOuJ0e77",
        "outputId": "75017ee1-17bc-415d-8fb2-55dc6fe738d7"
      },
      "execution_count": 30,
      "outputs": [
        {
          "output_type": "stream",
          "name": "stdout",
          "text": [
            "Count of Values: \n",
            "Medium     2790\n",
            "Unknown    2410\n",
            "Small      2387\n",
            "Large       932\n",
            "Name: Outlet_Size, dtype: int64 \n",
            "\n",
            "Statistical Description: \n",
            " count       8519\n",
            "unique         4\n",
            "top       Medium\n",
            "freq        2790\n",
            "Name: Outlet_Size, dtype: object\n"
          ]
        },
        {
          "output_type": "display_data",
          "data": {
            "text/plain": [
              "<Figure size 576x288 with 1 Axes>"
            ],
            "image/png": "[encoded data removed]"
          },
          "metadata": {
            "needs_background": "light"
          }
        }
      ]
    },
    {
      "cell_type": "markdown",
      "source": [
        "* Medium is the most common, followed by Unknown. Large is by far the least common."
      ],
      "metadata": {
        "id": "CDgBaJgE0jka"
      }
    },
    {
      "cell_type": "code",
      "source": [
        "catdata(sales, 'Outlet_Establishment_Year')"
      ],
      "metadata": {
        "colab": {
          "base_uri": "https://localhost:8080/",
          "height": 677
        },
        "id": "JAcyl_4U0tj6",
        "outputId": "f5e89556-ceb0-452f-f14b-e5b96648744c"
      },
      "execution_count": 31,
      "outputs": [
        {
          "output_type": "stream",
          "name": "stdout",
          "text": [
            "Count of Values: \n",
            "1985    1459\n",
            "1987     932\n",
            "1999     930\n",
            "1997     930\n",
            "2004     930\n",
            "2002     929\n",
            "2009     928\n",
            "2007     926\n",
            "1998     555\n",
            "Name: Outlet_Establishment_Year, dtype: int64 \n",
            "\n",
            "Statistical Description: \n",
            " count    8519.000000\n",
            "mean     1997.837892\n",
            "std         8.369105\n",
            "min      1985.000000\n",
            "25%      1987.000000\n",
            "50%      1999.000000\n",
            "75%      2004.000000\n",
            "max      2009.000000\n",
            "Name: Outlet_Establishment_Year, dtype: float64\n"
          ]
        },
        {
          "output_type": "display_data",
          "data": {
            "text/plain": [
              "<Figure size 576x288 with 1 Axes>"
            ],
            "image/png": "[encoded data removed]"
          },
          "metadata": {
            "needs_background": "light"
          }
        }
      ]
    },
    {
      "cell_type": "markdown",
      "source": [
        "* The function I built did not produce a good chart, as I would like to see this bar chart sorted by year. But we can see that the year where the most outlets were established was 1985, which is also the first year. After that we see a steady ~930 outlets being established\n",
        "* For fun, lets create a better graph. It will be the same graph as above but without ordering the labels by the values."
      ],
      "metadata": {
        "id": "sVs_75EU07SB"
      }
    },
    {
      "cell_type": "code",
      "source": [
        "fig2, ax2 = plt.subplots(figsize = (8,4))\n",
        "sns.countplot(data = sales, y = 'Outlet_Establishment_Year', ax = ax2)\n",
        "ax2.set_title('Outlet_Establishment_Year');"
      ],
      "metadata": {
        "colab": {
          "base_uri": "https://localhost:8080/",
          "height": 295
        },
        "id": "o5DcbW_mQsHS",
        "outputId": "8a41855a-b136-4660-b683-d4411b46acad"
      },
      "execution_count": 42,
      "outputs": [
        {
          "output_type": "display_data",
          "data": {
            "text/plain": [
              "<Figure size 576x288 with 1 Axes>"
            ],
            "image/png": "[encoded data removed]"
          },
          "metadata": {
            "needs_background": "light"
          }
        }
      ]
    },
    {
      "cell_type": "markdown",
      "metadata": {
        "id": "RPMr1Kot2UqT"
      },
      "source": [
        "## 5 Explanatory Visuals"
      ]
    },
    {
      "cell_type": "code",
      "execution_count": 31,
      "metadata": {
        "id": "889Q59wN2YXE"
      },
      "outputs": [],
      "source": []
    }
  ],
  "metadata": {
    "colab": {
      "provenance": [],
      "mount_file_id": "1tYUKyfjxC08cbBzFtCjwDzoOSqxaW9yB",
      "authorship_tag": "ABX9TyNEBYjy7PS3Fna6rGeQvYxu",
      "include_colab_link": true
    },
    "kernelspec": {
      "display_name": "Python 3",
      "name": "python3"
    },
    "language_info": {
      "name": "python"
    }
  },
  "nbformat": 4,
  "nbformat_minor": 0
}