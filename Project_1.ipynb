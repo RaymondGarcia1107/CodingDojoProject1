{
  "nbformat": 4,
  "nbformat_minor": 0,
  "metadata": {
    "colab": {
      "provenance": [],
      "authorship_tag": "ABX9TyP3rBAZEUl5+gZQr8oNQcLB",
      "include_colab_link": true
    },
    "kernelspec": {
      "name": "python3",
      "display_name": "Python 3"
    },
    "language_info": {
      "name": "python"
    }
  },
  "cells": [
    {
      "cell_type": "markdown",
      "metadata": {
        "id": "view-in-github",
        "colab_type": "text"
      },
      "source": [
        "<a href=\"https://colab.research.google.com/github/RaymondGarcia1107/Sales-Predictions/blob/main/Project_1.ipynb\" target=\"_parent\"><img src=\"https://colab.research.google.com/assets/colab-badge.svg\" alt=\"Open In Colab\"/></a>"
      ]
    },
    {
      "cell_type": "markdown",
      "source": [
        "# Project 1: Sales Predictions - Part 1\n",
        "Raymond Garcia"
      ],
      "metadata": {
        "id": "R4NCHcQ21bPL"
      }
    },
    {
      "cell_type": "code",
      "source": [],
      "metadata": {
        "id": "FIGvm_mZ1lvn"
      },
      "execution_count": null,
      "outputs": []
    },
    {
      "cell_type": "markdown",
      "source": [
        "## Loading Data"
      ],
      "metadata": {
        "id": "I2CBbSHf1mE3"
      }
    },
    {
      "cell_type": "code",
      "source": [],
      "metadata": {
        "id": "heUhi5oe1rCg"
      },
      "execution_count": null,
      "outputs": []
    },
    {
      "cell_type": "markdown",
      "source": [
        "## Data Cleaning"
      ],
      "metadata": {
        "id": "vsB5WLWj2JKU"
      }
    },
    {
      "cell_type": "code",
      "source": [],
      "metadata": {
        "id": "BnMd7-hg2QYi"
      },
      "execution_count": null,
      "outputs": []
    },
    {
      "cell_type": "markdown",
      "source": [
        "## Exploratory Visuals"
      ],
      "metadata": {
        "id": "rqyMkmIf2QmI"
      }
    },
    {
      "cell_type": "code",
      "source": [],
      "metadata": {
        "id": "Sz_Q3z8S2VIi"
      },
      "execution_count": null,
      "outputs": []
    },
    {
      "cell_type": "markdown",
      "source": [
        "## Explanatory Visuals"
      ],
      "metadata": {
        "id": "RPMr1Kot2UqT"
      }
    },
    {
      "cell_type": "code",
      "source": [],
      "metadata": {
        "id": "889Q59wN2YXE"
      },
      "execution_count": null,
      "outputs": []
    }
  ]
}